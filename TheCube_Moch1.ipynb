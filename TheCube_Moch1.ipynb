{
 "cells": [
  {
   "cell_type": "code",
   "execution_count": 33,
   "metadata": {},
   "outputs": [],
   "source": [
    "import os\n",
    "import tensorflow as tf\n",
    "import numpy as np\n",
    "import random\n",
    "import time\n",
    "import matplotlib.pyplot as plt\n",
    "import pickle\n",
    "from matplotlib.backends.backend_pdf import PdfPages\n",
    "from hyperdash import monitor_cell\n",
    "from hyperdash import Experiment\n",
    "import inspect, re\n",
    "import re\n",
    "import traceback"
   ]
  },
  {
   "cell_type": "code",
   "execution_count": 8,
   "metadata": {},
   "outputs": [],
   "source": [
    "RFace =np.array([['R1','R2','R3'],['R4','R5','R6'],['R7','R8','R9']])\n",
    "BFace =np.array([['G1','G2','G3'],['G4','G5','G6'],['G7','G8','G9']])\n",
    "LFace =np.array([['O1','O2','O3'],['O4','O5','O6'],['O7','O8','O9']])\n",
    "DFace =np.array([['W1','W2','W3'],['W4','W5','W6'],['W7','W8','W9']])\n",
    "FFace =np.array([['B1','B2','B3'],['B4','B5','B6'],['B7','B8','B9']])\n",
    "UFace =np.array([['Y1','Y2','Y3'],['Y4','Y5','Y6'],['Y7','Y8','Y9']])"
   ]
  },
  {
   "cell_type": "code",
   "execution_count": 48,
   "metadata": {},
   "outputs": [],
   "source": [
    "def func(var):\n",
    "    stack = traceback.extract_stack()\n",
    "    filename, lineno, function_name, code = stack[-2]\n",
    "    vars_name = re.compile(r'\\((.*?)\\).*$').search(code).groups()[0]\n",
    "    vars_name = vars_name.split(\"'\")\n",
    "    return vars_name"
   ]
  },
  {
   "cell_type": "code",
   "execution_count": 15,
   "metadata": {},
   "outputs": [],
   "source": [
    "def cube():\n",
    "    cube = {\n",
    "        'Front'  : np.array([['B1','B2','B3'],['B4','B5','B6'],['B7','B8','B9']]),\n",
    "        'Back'   : np.array([['G1','G2','G3'],['G4','G5','G6'],['G7','G8','G9']]),\n",
    "        'Left'   : np.array([['O1','O2','O3'],['O4','O5','O6'],['O7','O8','O9']]),\n",
    "        'Right'  : np.array([['R1','R2','R3'],['R4','R5','R6'],['R7','R8','R9']]),\n",
    "        'Down'   : np.array([['W1','W2','W3'],['W4','W5','W6'],['W7','W8','W9']]),\n",
    "        'Up'     : np.array([['Y1','Y2','Y3'],['Y4','Y5','Y6'],['Y7','Y8','Y9']]),\n",
    "    }\n",
    "    return cube\n",
    "    "
   ]
  },
  {
   "cell_type": "code",
   "execution_count": 44,
   "metadata": {},
   "outputs": [
    {
     "name": "stdout",
     "output_type": "stream",
     "text": [
      "[['B1' 'B2' 'B3']\n",
      " ['B4' 'B5' 'B6']\n",
      " ['B7' 'B8' 'B9']]\n",
      "[['G1' 'G2' 'G3']\n",
      " ['G4' 'G5' 'G6']\n",
      " ['G7' 'G8' 'G9']]\n",
      "Back\n"
     ]
    }
   ],
   "source": [
    "c = cube()\n",
    "x = cube()\n",
    "print(c['Front'])\n",
    "print(x['Back'])\n",
    "name = func(x['Back'])\n",
    "print(name)"
   ]
  },
  {
   "cell_type": "code",
   "execution_count": 21,
   "metadata": {},
   "outputs": [],
   "source": [
    "def transpose(x):\n",
    "    out = np.zeros([0,len(x)])\n",
    "    print(out)"
   ]
  },
  {
   "cell_type": "code",
   "execution_count": 65,
   "metadata": {},
   "outputs": [],
   "source": [
    "def Rotation(face):\n",
    "    stack = traceback.extract_stack()\n",
    "    filename, lineno, function_name, code = stack[-2]\n",
    "    vars_name = re.compile(r'\\((.*?)\\).*$').search(code).groups()[0]\n",
    "    vars_name = vars_name.split(\"'\")\n",
    "    rotFace = vars_name[1]\n",
    "    tempFace = np.zeros([5,5])\n",
    "    if (rotFace == 'Front'):\n",
    "        print(rotFace)\n",
    "    elif (rotFace == 'Back'):\n",
    "        print(rotFace)\n",
    "    elif (rotFace == 'Left'):\n",
    "        print(rotFace)\n",
    "    elif (rotFace == 'Right'):\n",
    "        print(rotFace)\n",
    "    elif (rotFace == 'Up'):\n",
    "        print(rotFace)\n",
    "    elif (rotFace == 'Down'):\n",
    "        print(rotFace)\n",
    "        \n",
    "    print(tempFace)"
   ]
  },
  {
   "cell_type": "code",
   "execution_count": 66,
   "metadata": {},
   "outputs": [
    {
     "name": "stdout",
     "output_type": "stream",
     "text": [
      "Front\n",
      "[[0. 0. 0. 0. 0.]\n",
      " [0. 0. 0. 0. 0.]\n",
      " [0. 0. 0. 0. 0.]\n",
      " [0. 0. 0. 0. 0.]\n",
      " [0. 0. 0. 0. 0.]]\n"
     ]
    }
   ],
   "source": [
    "Rotation(x['Front'])"
   ]
  },
  {
   "cell_type": "code",
   "execution_count": null,
   "metadata": {},
   "outputs": [],
   "source": []
  }
 ],
 "metadata": {
  "kernelspec": {
   "display_name": "Python 3",
   "language": "python",
   "name": "python3"
  },
  "language_info": {
   "codemirror_mode": {
    "name": "ipython",
    "version": 3
   },
   "file_extension": ".py",
   "mimetype": "text/x-python",
   "name": "python",
   "nbconvert_exporter": "python",
   "pygments_lexer": "ipython3",
   "version": "3.6.5"
  }
 },
 "nbformat": 4,
 "nbformat_minor": 2
}
